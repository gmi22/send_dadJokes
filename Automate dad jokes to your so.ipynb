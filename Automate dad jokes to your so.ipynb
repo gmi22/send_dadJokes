{
 "cells": [
  {
   "cell_type": "code",
   "execution_count": 1,
   "metadata": {},
   "outputs": [],
   "source": [
    "import requests\n",
    "import bs4\n",
    "import schedule\n",
    "import random"
   ]
  },
  {
   "cell_type": "code",
   "execution_count": 2,
   "metadata": {},
   "outputs": [],
   "source": [
    "res = requests.get('https://www.countryliving.com/life/a27452412/best-dad-jokes/')\n",
    "soup = bs4.BeautifulSoup(res.text,\"lxml\")\n",
    "jokes=soup.select('.body-ul')"
   ]
  },
  {
   "cell_type": "code",
   "execution_count": null,
   "metadata": {},
   "outputs": [],
   "source": [
    "joke_list = []\n",
    "\n",
    "for i in jokes[0]:\n",
    "    joke_list += i\n",
    "for i in jokes[1]:\n",
    "    joke_list += i\n",
    "for i in jokes[2]:\n",
    "    joke_list += i"
   ]
  },
  {
   "cell_type": "code",
   "execution_count": null,
   "metadata": {},
   "outputs": [],
   "source": [
    "#must make twilio account\n",
    "\n",
    "from twilio.rest import Client\n",
    "account_sid = 'put your account_sid here'\n",
    "auth_token  = 'put your auth_token here'\n",
    "client = Client(account_sid, auth_token)"
   ]
  },
  {
   "cell_type": "code",
   "execution_count": null,
   "metadata": {},
   "outputs": [],
   "source": [
    "message = client.messages.create(\n",
    "    to=\"put their number here\", \n",
    "    from_=\"put your number here\",\n",
    "    body=my_messege)\n",
    "\n",
    "print(message.sid)"
   ]
  }
 ],
 "metadata": {
  "kernelspec": {
   "display_name": "Python 3",
   "language": "python",
   "name": "python3"
  },
  "language_info": {
   "codemirror_mode": {
    "name": "ipython",
    "version": 3
   },
   "file_extension": ".py",
   "mimetype": "text/x-python",
   "name": "python",
   "nbconvert_exporter": "python",
   "pygments_lexer": "ipython3",
   "version": "3.7.0"
  }
 },
 "nbformat": 4,
 "nbformat_minor": 2
}
